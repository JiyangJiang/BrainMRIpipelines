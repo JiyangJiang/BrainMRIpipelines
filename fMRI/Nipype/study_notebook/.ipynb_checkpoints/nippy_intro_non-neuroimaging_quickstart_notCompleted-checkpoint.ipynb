{
 "cells": [
  {
   "cell_type": "code",
   "execution_count": 1,
   "metadata": {},
   "outputs": [],
   "source": [
    "import os\n",
    "from nipype import Workflow, Node, Function"
   ]
  },
  {
   "cell_type": "code",
   "execution_count": 2,
   "metadata": {},
   "outputs": [
    {
     "name": "stdout",
     "output_type": "stream",
     "text": [
      "190125-20:57:57,763 nipype.workflow INFO:\n",
      "\t Workflow hello settings: ['check', 'execution', 'logging', 'monitoring']\n",
      "190125-20:57:57,777 nipype.workflow INFO:\n",
      "\t Running serially.\n",
      "190125-20:57:57,780 nipype.workflow INFO:\n",
      "\t [Node] Setting-up \"hello.a_plus_b\" in \"/Users/z3402744/Dropbox/Jiyang/CNSP/FUTURE/fMRI/Nipype/study_notebook/hello/a_plus_b\".\n",
      "190125-20:57:57,796 nipype.workflow INFO:\n",
      "\t [Node] Running \"a_plus_b\" (\"nipype.interfaces.utility.wrappers.Function\")\n",
      "190125-20:57:57,852 nipype.workflow INFO:\n",
      "\t [Node] Finished \"hello.a_plus_b\".\n"
     ]
    },
    {
     "data": {
      "text/plain": [
       "\n",
       "sum = 4"
      ]
     },
     "execution_count": 2,
     "metadata": {},
     "output_type": "execute_result"
    }
   ],
   "source": [
    "# Create a workflow with one node that adds two numbers together\n",
    "def sum (a, b):\n",
    "    return a + b\n",
    "\n",
    "wf = Workflow ('hello')\n",
    "\n",
    "adder = Node (Function (input_names = ['a', 'b'],\n",
    "                        output_names = ['sum'],\n",
    "                        function = sum),\n",
    "              name = 'a_plus_b')\n",
    "\n",
    "adder.inputs.a = 1\n",
    "adder.inputs.b = 3\n",
    "\n",
    "wf.add_nodes ([adder])\n",
    "wf.base_dir = os.getcwd()\n",
    "\n",
    "eg = wf.run()\n",
    "list(eg.nodes())[0].result.outputs"
   ]
  },
  {
   "cell_type": "code",
   "execution_count": 3,
   "metadata": {},
   "outputs": [
    {
     "name": "stdout",
     "output_type": "stream",
     "text": [
      "190125-21:22:32,104 nipype.workflow INFO:\n",
      "\t Workflow hello settings: ['check', 'execution', 'logging', 'monitoring']\n",
      "190125-21:22:32,114 nipype.workflow INFO:\n",
      "\t Running serially.\n",
      "190125-21:22:32,116 nipype.workflow INFO:\n",
      "\t [Node] Setting-up \"hello.a_plus_b\" in \"/Users/z3402744/Dropbox/Jiyang/CNSP/FUTURE/fMRI/Nipype/study_notebook/hello/a_plus_b\".\n",
      "190125-21:22:32,118 nipype.workflow INFO:\n",
      "\t [Node] Outdated cache found for \"hello.a_plus_b\".\n",
      "190125-21:22:32,130 nipype.workflow INFO:\n",
      "\t [Node] Running \"a_plus_b\" (\"nipype.interfaces.utility.wrappers.Function\")\n",
      "190125-21:22:32,149 nipype.workflow INFO:\n",
      "\t [Node] Finished \"hello.a_plus_b\".\n",
      "190125-21:22:32,152 nipype.workflow INFO:\n",
      "\t [Node] Setting-up \"hello.concat_a_b\" in \"/Users/z3402744/Dropbox/Jiyang/CNSP/FUTURE/fMRI/Nipype/study_notebook/hello/concat_a_b\".\n",
      "190125-21:22:32,165 nipype.workflow INFO:\n",
      "\t [Node] Running \"concat_a_b\" (\"nipype.interfaces.utility.wrappers.Function\")\n",
      "190125-21:22:32,180 nipype.workflow INFO:\n",
      "\t [Node] Finished \"hello.concat_a_b\".\n",
      "[hello.concat_a_b, hello.a_plus_b]\n"
     ]
    }
   ],
   "source": [
    "# create a second node and add to hello Workflow\n",
    "def concat (a, b):\n",
    "    return [a, b]\n",
    "\n",
    "concater = Node (Function (input_names = ['a', 'b'],\n",
    "                           output_names = ['some_list'],\n",
    "                           function = concat),\n",
    "                 name = 'concat_a_b')\n",
    "\n",
    "wf.connect (adder, 'sum', concater, 'a')\n",
    "concater.inputs.b = 3\n",
    "\n",
    "eg = wf.run()\n",
    "print (eg.nodes())"
   ]
  },
  {
   "cell_type": "code",
   "execution_count": 15,
   "metadata": {},
   "outputs": [
    {
     "data": {
      "text/plain": [
       "\n",
       "some_list = [4, 3]"
      ]
     },
     "execution_count": 15,
     "metadata": {},
     "output_type": "execute_result"
    }
   ],
   "source": [
    "# chech results of workflow\n",
    "list(eg.nodes())[0].result.outputs"
   ]
  },
  {
   "cell_type": "code",
   "execution_count": 7,
   "metadata": {},
   "outputs": [
    {
     "name": "stdout",
     "output_type": "stream",
     "text": [
      "190125-21:34:59,881 nipype.workflow INFO:\n",
      "\t Workflow hello settings: ['check', 'execution', 'logging', 'monitoring']\n",
      "190125-21:34:59,889 nipype.workflow INFO:\n",
      "\t Running serially.\n",
      "190125-21:34:59,892 nipype.workflow INFO:\n",
      "\t [Node] Setting-up \"hello.a_plus_b\" in \"/Users/z3402744/Dropbox/Jiyang/CNSP/FUTURE/fMRI/Nipype/study_notebook/hello/a_plus_b\".\n",
      "190125-21:34:59,896 nipype.workflow INFO:\n",
      "\t [Node] Cached \"hello.a_plus_b\" - collecting precomputed outputs\n",
      "190125-21:34:59,897 nipype.workflow INFO:\n",
      "\t [Node] \"hello.a_plus_b\" found cached.\n",
      "190125-21:34:59,900 nipype.workflow INFO:\n",
      "\t [Node] Setting-up \"hello.concat_a_b\" in \"/Users/z3402744/Dropbox/Jiyang/CNSP/FUTURE/fMRI/Nipype/study_notebook/hello/concat_a_b\".\n",
      "190125-21:34:59,907 nipype.workflow INFO:\n",
      "\t [Node] Outdated cache found for \"hello.concat_a_b\".\n",
      "190125-21:34:59,919 nipype.workflow INFO:\n",
      "\t [Node] Running \"concat_a_b\" (\"nipype.interfaces.utility.wrappers.Function\")\n",
      "190125-21:34:59,941 nipype.workflow INFO:\n",
      "\t [Node] Finished \"hello.concat_a_b\".\n",
      "190125-21:34:59,944 nipype.workflow INFO:\n",
      "\t [Node] Setting-up \"hello.plus_1\" in \"/Users/z3402744/Dropbox/Jiyang/CNSP/FUTURE/fMRI/Nipype/study_notebook/hello/plus_1\".\n",
      "190125-21:34:59,956 nipype.workflow INFO:\n",
      "\t [Node] Running \"plus_1\" (\"nipype.interfaces.utility.wrappers.Function\")\n",
      "190125-21:34:59,967 nipype.workflow WARNING:\n",
      "\t [Node] Error on \"hello.plus_1\" (/Users/z3402744/Dropbox/Jiyang/CNSP/FUTURE/fMRI/Nipype/study_notebook/hello/plus_1)\n",
      "190125-21:34:59,982 nipype.workflow ERROR:\n",
      "\t Node plus_1 failed to run on host Jiyangs-MacBook-Pro-2.local.\n",
      "190125-21:34:59,986 nipype.workflow ERROR:\n",
      "\t Saving crash info to /Users/z3402744/Dropbox/Jiyang/CNSP/FUTURE/fMRI/Nipype/study_notebook/crash-20190125-213459-z3402744-plus_1-88c01332-3880-46a1-bfaa-85c66dd6b6c1.pklz\n",
      "Traceback (most recent call last):\n",
      "  File \"/Library/Python/2.7/site-packages/nipype-1.1.7-py2.7.egg/nipype/pipeline/plugins/linear.py\", line 48, in run\n",
      "    node.run(updatehash=updatehash)\n",
      "  File \"/Library/Python/2.7/site-packages/nipype-1.1.7-py2.7.egg/nipype/pipeline/engine/nodes.py\", line 473, in run\n",
      "    result = self._run_interface(execute=True)\n",
      "  File \"/Library/Python/2.7/site-packages/nipype-1.1.7-py2.7.egg/nipype/pipeline/engine/nodes.py\", line 557, in _run_interface\n",
      "    return self._run_command(execute)\n",
      "  File \"/Library/Python/2.7/site-packages/nipype-1.1.7-py2.7.egg/nipype/pipeline/engine/nodes.py\", line 637, in _run_command\n",
      "    result = self._interface.run(cwd=outdir)\n",
      "  File \"/Library/Python/2.7/site-packages/nipype-1.1.7-py2.7.egg/nipype/interfaces/base/core.py\", line 369, in run\n",
      "    runtime = self._run_interface(runtime)\n",
      "  File \"/Library/Python/2.7/site-packages/nipype-1.1.7-py2.7.egg/nipype/interfaces/utility/wrappers.py\", line 144, in _run_interface\n",
      "    out = function_handle(**args)\n",
      "  File \"<string>\", line 2, in plus_one\n",
      "TypeError: can only concatenate list (not \"int\") to list\n",
      "\n",
      "190125-21:34:59,993 nipype.workflow INFO:\n",
      "\t ***********************************\n",
      "190125-21:34:59,994 nipype.workflow ERROR:\n",
      "\t could not run node: hello.plus_1\n",
      "190125-21:34:59,997 nipype.workflow INFO:\n",
      "\t crashfile: /Users/z3402744/Dropbox/Jiyang/CNSP/FUTURE/fMRI/Nipype/study_notebook/crash-20190125-213459-z3402744-plus_1-88c01332-3880-46a1-bfaa-85c66dd6b6c1.pklz\n",
      "190125-21:34:59,999 nipype.workflow INFO:\n",
      "\t ***********************************\n",
      "('RuntimeError:', RuntimeError(u'Workflow did not execute cleanly. Check log for details',))\n"
     ]
    }
   ],
   "source": [
    "# add another node\n",
    "def plus_one (a):\n",
    "    return a + 1\n",
    "\n",
    "plusone = Node (Function (input_names = ['a'],\n",
    "                          output_names = ['out'],\n",
    "                          function = plus_one),\n",
    "                name = 'plus_1')\n",
    "\n",
    "wf.connect (concater, 'some_list', plusone, 'a')\n",
    "\n",
    "try:\n",
    "    eg = wf.run()\n",
    "except (RuntimeError) as err:\n",
    "    print ('RuntimeError:', err)\n",
    "else:\n",
    "    raise"
   ]
  },
  {
   "cell_type": "code",
   "execution_count": 9,
   "metadata": {},
   "outputs": [
    {
     "name": "stdout",
     "output_type": "stream",
     "text": [
      "\r\n",
      "\r\n",
      "File: /Users/z3402744/Dropbox/Jiyang/CNSP/FUTURE/fMRI/Nipype/study_notebook/crash-20190125-213459-z3402744-plus_1-88c01332-3880-46a1-bfaa-85c66dd6b6c1.pklz\r\n",
      "Node: hello.plus_1\r\n",
      "Working directory: /Users/z3402744/Dropbox/Jiyang/CNSP/FUTURE/fMRI/Nipype/study_notebook/hello/plus_1\r\n",
      "\r\n",
      "\r\n",
      "Node inputs:\r\n",
      "\r\n",
      "a = [4, 3]\r\n",
      "function_str = def plus_one (a):\r\n",
      "    return a + 1\r\n",
      "\r\n",
      "\r\n",
      "\r\n",
      "\r\n",
      "Traceback: \r\n",
      "Traceback (most recent call last):\r\n",
      "  File \"/Library/Python/2.7/site-packages/nipype-1.1.7-py2.7.egg/nipype/pipeline/plugins/linear.py\", line 48, in run\r\n",
      "    node.run(updatehash=updatehash)\r\n",
      "  File \"/Library/Python/2.7/site-packages/nipype-1.1.7-py2.7.egg/nipype/pipeline/engine/nodes.py\", line 473, in run\r\n",
      "    result = self._run_interface(execute=True)\r\n",
      "  File \"/Library/Python/2.7/site-packages/nipype-1.1.7-py2.7.egg/nipype/pipeline/engine/nodes.py\", line 557, in _run_interface\r\n",
      "    return self._run_command(execute)\r\n",
      "  File \"/Library/Python/2.7/site-packages/nipype-1.1.7-py2.7.egg/nipype/pipeline/engine/nodes.py\", line 637, in _run_command\r\n",
      "    result = self._interface.run(cwd=outdir)\r\n",
      "  File \"/Library/Python/2.7/site-packages/nipype-1.1.7-py2.7.egg/nipype/interfaces/base/core.py\", line 369, in run\r\n",
      "    runtime = self._run_interface(runtime)\r\n",
      "  File \"/Library/Python/2.7/site-packages/nipype-1.1.7-py2.7.egg/nipype/interfaces/utility/wrappers.py\", line 144, in _run_interface\r\n",
      "    out = function_handle(**args)\r\n",
      "  File \"<string>\", line 2, in plus_one\r\n",
      "TypeError: can only concatenate list (not \"int\") to list\r\n",
      "\r\n",
      "\r\n",
      "\r\n"
     ]
    }
   ],
   "source": [
    "# Read crash file\n",
    "# Note that if you have multiple crash files in the directory, you will need to specify the full name\n",
    "!nipypecli crash crash*\n",
    "# The error was due to we were trying to add a list with a integer which is not allowed in python.\n",
    "# This can be solved by creating plus_1 as MapNode"
   ]
  },
  {
   "cell_type": "code",
   "execution_count": 17,
   "metadata": {},
   "outputs": [
    {
     "name": "stdout",
     "output_type": "stream",
     "text": [
      "190125-22:17:41,126 nipype.workflow INFO:\n",
      "\t Workflow hello_mapnode settings: ['check', 'execution', 'logging', 'monitoring']\n",
      "190125-22:17:41,164 nipype.workflow INFO:\n",
      "\t Running serially.\n",
      "190125-22:17:41,167 nipype.workflow INFO:\n",
      "\t [Node] Setting-up \"hello_mapnode.a_plus_b\" in \"/Users/z3402744/Dropbox/Jiyang/CNSP/FUTURE/fMRI/Nipype/study_notebook/hello_mapnode/a_plus_b\".\n",
      "190125-22:17:41,179 nipype.workflow INFO:\n",
      "\t [Node] Running \"a_plus_b\" (\"nipype.interfaces.utility.wrappers.Function\")\n",
      "190125-22:17:41,196 nipype.workflow INFO:\n",
      "\t [Node] Finished \"hello_mapnode.a_plus_b\".\n",
      "190125-22:17:41,198 nipype.workflow INFO:\n",
      "\t [Node] Setting-up \"hello.concat_a_b\" in \"/Users/z3402744/Dropbox/Jiyang/CNSP/FUTURE/fMRI/Nipype/study_notebook/hello/concat_a_b\".\n",
      "190125-22:17:41,209 nipype.workflow INFO:\n",
      "\t [Node] Cached \"hello.concat_a_b\" - collecting precomputed outputs\n",
      "190125-22:17:41,211 nipype.workflow INFO:\n",
      "\t [Node] \"hello.concat_a_b\" found cached.\n",
      "190125-22:17:41,213 nipype.workflow INFO:\n",
      "\t [Node] Setting-up \"hello_mapnode.add_1\" in \"/Users/z3402744/Dropbox/Jiyang/CNSP/FUTURE/fMRI/Nipype/study_notebook/hello_mapnode/add_1\".\n",
      "190125-22:17:41,233 nipype.workflow INFO:\n",
      "\t [Node] Setting-up \"_add_10\" in \"/Users/z3402744/Dropbox/Jiyang/CNSP/FUTURE/fMRI/Nipype/study_notebook/hello_mapnode/add_1/mapflow/_add_10\".\n",
      "190125-22:17:41,247 nipype.workflow INFO:\n",
      "\t [Node] Running \"_add_10\" (\"nipype.interfaces.utility.wrappers.Function\")\n",
      "190125-22:17:41,262 nipype.workflow INFO:\n",
      "\t [Node] Finished \"_add_10\".\n",
      "190125-22:17:41,266 nipype.workflow INFO:\n",
      "\t [Node] Setting-up \"_add_11\" in \"/Users/z3402744/Dropbox/Jiyang/CNSP/FUTURE/fMRI/Nipype/study_notebook/hello_mapnode/add_1/mapflow/_add_11\".\n",
      "190125-22:17:41,274 nipype.workflow INFO:\n",
      "\t [Node] Running \"_add_11\" (\"nipype.interfaces.utility.wrappers.Function\")\n",
      "190125-22:17:41,285 nipype.workflow INFO:\n",
      "\t [Node] Finished \"_add_11\".\n",
      "190125-22:17:41,297 nipype.workflow INFO:\n",
      "\t [Node] Finished \"hello_mapnode.add_1\".\n",
      "[hello.concat_a_b, hello_mapnode.a_plus_b, hello_mapnode.add_1]\n"
     ]
    }
   ],
   "source": [
    "from nipype import MapNode\n",
    "plusone = MapNode (Function (input_names = ['a'],\n",
    "                             output_names = ['out'],\n",
    "                             function = plus_one),\n",
    "                   iterfield = ['a'],\n",
    "                   name = 'add_1')\n",
    "\n",
    "wf = Workflow ('hello_mapnode')\n",
    "\n",
    "adder = Node (Function (input_names = ['a', 'b'],\n",
    "                        output_names = ['sum'],\n",
    "                        function = sum),\n",
    "              name = 'a_plus_b')\n",
    "\n",
    "adder.inputs.a = 1\n",
    "adder.inputs.b = 3\n",
    "\n",
    "wf.connect (adder, 'sum', concater, 'a')\n",
    "concater.inputs.b = 3\n",
    "\n",
    "wf.connect (concater, 'some_list', plusone, 'a')\n",
    "\n",
    "wf.base_dir = os.getcwd()\n",
    "\n",
    "eg = wf.run()\n",
    "print (eg.nodes())"
   ]
  },
  {
   "cell_type": "code",
   "execution_count": 24,
   "metadata": {},
   "outputs": [
    {
     "data": {
      "text/plain": [
       "Bunch(out=[5, 4])"
      ]
     },
     "execution_count": 24,
     "metadata": {},
     "output_type": "execute_result"
    }
   ],
   "source": [
    "# see the result of hello.add_1\n",
    "list(eg.nodes())[2].result.outputs"
   ]
  },
  {
   "cell_type": "code",
   "execution_count": 25,
   "metadata": {},
   "outputs": [
    {
     "name": "stdout",
     "output_type": "stream",
     "text": [
      "190126-07:51:37,232 nipype.workflow INFO:\n",
      "\t Generated workflow graph: /Users/z3402744/Dropbox/Jiyang/CNSP/FUTURE/fMRI/Nipype/study_notebook/hello_mapnode/graph.png (graph2use=exec, simple_form=True).\n"
     ]
    },
    {
     "data": {
      "image/png": "[encoded data removed]",
      "text/plain": [
       "<IPython.core.display.Image object>"
      ]
     },
     "execution_count": 25,
     "metadata": {},
     "output_type": "execute_result"
    }
   ],
   "source": [
    "# visualise\n",
    "wf.write_graph (graph2use = 'exec')\n",
    "from IPython.display import Image\n",
    "Image ('hello_mapnode/graph.png')"
   ]
  },
  {
   "cell_type": "code",
   "execution_count": 26,
   "metadata": {},
   "outputs": [
    {
     "data": {
      "image/png": "[encoded data removed]",
      "text/plain": [
       "<IPython.core.display.Image object>"
      ]
     },
     "execution_count": 26,
     "metadata": {},
     "output_type": "execute_result"
    }
   ],
   "source": [
    "Image ('hello_mapnode/graph_detailed.png')"
   ]
  },
  {
   "cell_type": "code",
   "execution_count": 27,
   "metadata": {},
   "outputs": [
    {
     "ename": "NameError",
     "evalue": "name 'JoinMap' is not defined",
     "output_type": "error",
     "traceback": [
      "\u001b[0;31m---------------------------------------------------------------------------\u001b[0m",
      "\u001b[0;31mNameError\u001b[0m                                 Traceback (most recent call last)",
      "\u001b[0;32m<ipython-input-27-f4abd919d6eb>\u001b[0m in \u001b[0;36m<module>\u001b[0;34m()\u001b[0m\n\u001b[1;32m      4\u001b[0m     \u001b[0;32mreturn\u001b[0m \u001b[0;34m(\u001b[0m\u001b[0mnp\u001b[0m\u001b[0;34m.\u001b[0m\u001b[0marray\u001b[0m\u001b[0;34m(\u001b[0m\u001b[0mdata2\u001b[0m\u001b[0;34m)\u001b[0m \u001b[0;34m*\u001b[0m \u001b[0;36m1000\u001b[0m\u001b[0;34m)\u001b[0m\u001b[0;34m.\u001b[0m\u001b[0mtolist\u001b[0m\u001b[0;34m(\u001b[0m\u001b[0;34m)\u001b[0m\u001b[0;34m\u001b[0m\u001b[0m\n\u001b[1;32m      5\u001b[0m \u001b[0;34m\u001b[0m\u001b[0m\n\u001b[0;32m----> 6\u001b[0;31m joiner = JoinMap (Function (input_names = ['data2'],\n\u001b[0m\u001b[1;32m      7\u001b[0m                             \u001b[0moutput_names\u001b[0m \u001b[0;34m=\u001b[0m \u001b[0;34m[\u001b[0m\u001b[0;34m'data_scaled'\u001b[0m\u001b[0;34m]\u001b[0m\u001b[0;34m,\u001b[0m\u001b[0;34m\u001b[0m\u001b[0m\n\u001b[1;32m      8\u001b[0m                             function = merge_and_scale_data),\n",
      "\u001b[0;31mNameError\u001b[0m: name 'JoinMap' is not defined"
     ]
    }
   ],
   "source": [
    "# JoinNode - merge results together\n",
    "def merge_and_scale_data (data2):\n",
    "    import numpy as np\n",
    "    return (np.array(data2) * 1000).tolist()\n",
    "\n",
    "joiner = JoinNode (Function (input_names = ['data2'],\n",
    "                             output_names = ['data_scaled'],\n",
    "                             function = merge_and_scale_data),\n",
    "                   name = 'join_scale_data',\n",
    "                   joinsource = adder,\n",
    "                   joinfield = ['data2'])\n",
    "\n",
    "wf.connect (plusone, 'out', joiner, 'data2')\n",
    "\n",
    "eg = wf.run()\n",
    "eg.nodes"
   ]
  },
  {
   "cell_type": "code",
   "execution_count": null,
   "metadata": {},
   "outputs": [],
   "source": []
  }
 ],
 "metadata": {
  "kernelspec": {
   "display_name": "Python 2",
   "language": "python",
   "name": "python2"
  },
  "language_info": {
   "codemirror_mode": {
    "name": "ipython",
    "version": 2
   },
   "file_extension": ".py",
   "mimetype": "text/x-python",
   "name": "python",
   "nbconvert_exporter": "python",
   "pygments_lexer": "ipython2",
   "version": "2.7.10"
  }
 },
 "nbformat": 4,
 "nbformat_minor": 2
}
